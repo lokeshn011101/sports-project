{
 "cells": [
  {
   "cell_type": "code",
   "execution_count": 25,
   "source": [
    "import time\r\n",
    "import os\r\n",
    "import cv2\r\n",
    "import sys\r\n",
    "import matplotlib.pyplot as plt\r\n",
    "import torch"
   ],
   "outputs": [],
   "metadata": {}
  },
  {
   "cell_type": "code",
   "execution_count": null,
   "source": [
    "model = torch.hub.load('ultralytics/yolov5', 'yolov5s') # or yolov5m, yolov5l, yolov5x, custom\r\n",
    "\r\n",
    "def extract_frames(video_name):\r\n",
    "    start_time = time.time()\r\n",
    "\r\n",
    "    cap = cv2.VideoCapture(f'./data/videos/{video_name}.mp4')\r\n",
    "    length_video = int(cap.get(cv2.CAP_PROP_FRAME_COUNT))\r\n",
    "    frame_number = 0\r\n",
    "\r\n",
    "    # Check if video uploaded\r\n",
    "    if not cap.isOpened():\r\n",
    "        sys.exit(\"Unable to open the video, check the path.\\n\")\r\n",
    "\r\n",
    "    while frame_number < length_video:\r\n",
    "        _, rgb = cap.read()\r\n",
    "\r\n",
    "        if _ == 1:\r\n",
    "\r\n",
    "            results = model(rgb)\r\n",
    "            tags = list(results.pandas().xyxy[0].name)\r\n",
    "\r\n",
    "            for vals in tags:\r\n",
    "                if vals == \"sports ball\":\r\n",
    "                    newpath = f'FramesOf{video_name}'\r\n",
    "                    if not os.path.exists(newpath):\r\n",
    "                        os.makedirs(newpath)\r\n",
    "                    cv2.imwrite(f'./FramesOf{video_name}/' +str('%08d.png' % frame_number), rgb)\r\n",
    "                    break\r\n",
    "\r\n",
    "            frame_number += 1\r\n",
    "\r\n",
    "        else:\r\n",
    "            print(\"error\")\r\n",
    "            break\r\n",
    "    cap.release()\r\n",
    "    print(-start_time + time.time())\r\n",
    "\r\n",
    "\r\n",
    "extract_frames('129114896')\r\n"
   ],
   "outputs": [],
   "metadata": {}
  }
 ],
 "metadata": {
  "orig_nbformat": 4,
  "language_info": {
   "name": "python",
   "version": "3.8.10",
   "mimetype": "text/x-python",
   "codemirror_mode": {
    "name": "ipython",
    "version": 3
   },
   "pygments_lexer": "ipython3",
   "nbconvert_exporter": "python",
   "file_extension": ".py"
  },
  "kernelspec": {
   "name": "python3",
   "display_name": "Python 3.8.10 64-bit ('dlapp': conda)"
  },
  "interpreter": {
   "hash": "f669473434b0c71a08312914e81c73b2c7471a3c7bfd138db5a6bbb55bcafdbb"
  }
 },
 "nbformat": 4,
 "nbformat_minor": 2
}