{
 "cells": [
  {
   "cell_type": "code",
   "execution_count": 28,
   "source": [
    "import time\r\n",
    "import os\r\n",
    "import cv2\r\n",
    "import sys\r\n",
    "import matplotlib.pyplot as plt\r\n",
    "from PIL import Image"
   ],
   "outputs": [],
   "metadata": {}
  },
  {
   "cell_type": "code",
   "execution_count": 41,
   "source": [
    "def extract_frames(video_name):\r\n",
    "    start_time = time.time()\r\n",
    "\r\n",
    "    cap = cv2.VideoCapture(f'./data/videos/{video_name}.mp4')\r\n",
    "    length_video = int(cap.get(cv2.CAP_PROP_FRAME_COUNT))\r\n",
    "    frame_number = 0\r\n",
    "\r\n",
    "    # Check if video uploaded\r\n",
    "    if not cap.isOpened():\r\n",
    "        sys.exit(\"Unable to open the video, check the path.\\n\")\r\n",
    "\r\n",
    "    while frame_number < length_video:\r\n",
    "        _, rgb = cap.read()\r\n",
    "\r\n",
    "        if _ == 1:\r\n",
    "\r\n",
    "            cv2.imwrite(f'./yolov5/imagedata/images/train/frame_' +\r\n",
    "                        str('%06d.png' % frame_number), rgb)\r\n",
    "\r\n",
    "            frame_number += 1\r\n",
    "\r\n",
    "        else:\r\n",
    "            print(\"error\")\r\n",
    "            break\r\n",
    "    cap.release()\r\n",
    "    print(-start_time + time.time())\r\n",
    "\r\n",
    "extract_frames('468477648')"
   ],
   "outputs": [],
   "metadata": {}
  },
  {
   "cell_type": "code",
   "execution_count": null,
   "source": [
    "img = Image.open('./frame_000000.png')\r\n",
    "plt.imshow(img)\r\n",
    "print(img.size)\r\n",
    "rimg = img.resize((64, 64))\r\n",
    "plt.imshow(rimg)\r\n",
    "print(rimg.size)"
   ],
   "outputs": [],
   "metadata": {}
  },
  {
   "cell_type": "code",
   "execution_count": 39,
   "source": [
    "def change_resolution():\r\n",
    "    for file in os.listdir('./yolov5/imagedata/images/train/'):\r\n",
    "        img = Image.open('./yolov5/imagedata/images/train/'+file)\r\n",
    "        rimg = img.resize((1024, 1024))\r\n",
    "        rimg.save('./yolov5/imagedata/images/train/'+file)\r\n",
    "        \r\n",
    "change_resolution()"
   ],
   "outputs": [],
   "metadata": {}
  },
  {
   "cell_type": "code",
   "execution_count": null,
   "source": [
    "# cd yolov5\r\n",
    "# python train.py --img 1024 --batch 1 --epochs 2 --data image.yaml\r\n",
    "# python detect.py --source ../data/videos/71023710613.mp4 --weights best.pt"
   ],
   "outputs": [],
   "metadata": {}
  }
 ],
 "metadata": {
  "orig_nbformat": 4,
  "language_info": {
   "name": "python",
   "version": "3.8.10",
   "mimetype": "text/x-python",
   "codemirror_mode": {
    "name": "ipython",
    "version": 3
   },
   "pygments_lexer": "ipython3",
   "nbconvert_exporter": "python",
   "file_extension": ".py"
  },
  "kernelspec": {
   "name": "python3",
   "display_name": "Python 3.8.10 64-bit ('dlapp': conda)"
  },
  "interpreter": {
   "hash": "f669473434b0c71a08312914e81c73b2c7471a3c7bfd138db5a6bbb55bcafdbb"
  }
 },
 "nbformat": 4,
 "nbformat_minor": 2
}