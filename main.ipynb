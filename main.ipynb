{
 "cells": [
  {
   "cell_type": "code",
   "execution_count": 3,
   "source": [
    "import time\r\n",
    "import os\r\n",
    "import cv2\r\n",
    "import sys\r\n",
    "import matplotlib.pyplot as plt"
   ],
   "outputs": [],
   "metadata": {}
  },
  {
   "cell_type": "code",
   "execution_count": 4,
   "source": [
    "def extract_frames(save_path):\r\n",
    "    start_time = time.time()\r\n",
    "\r\n",
    "    cap = cv2.VideoCapture('./data/videos/468477648.mp4')\r\n",
    "    length_video = int(cap.get(cv2.CAP_PROP_FRAME_COUNT))\r\n",
    "    frame_number = 0\r\n",
    "\r\n",
    "    # Check if video uploaded\r\n",
    "    if not cap.isOpened():\r\n",
    "        sys.exit(\"Unable to open the video, check the path.\\n\")\r\n",
    "\r\n",
    "    while frame_number < length_video:\r\n",
    "        _, rgb = cap.read()\r\n",
    "\r\n",
    "        if _ == 1:\r\n",
    "            \r\n",
    "            cv2.imwrite('./vidframes/'+ str('%08d.png' % frame_number), rgb)\r\n",
    "            frame_number += 1\r\n",
    "        else:\r\n",
    "            print(\"error\")\r\n",
    "            break\r\n",
    "    cap.release()\r\n",
    "    print(-start_time + time.time())\r\n",
    "    \r\n",
    "extract_frames('vidfarmes')\r\n"
   ],
   "outputs": [
    {
     "output_type": "stream",
     "name": "stdout",
     "text": [
      "142.64903283119202\n"
     ]
    }
   ],
   "metadata": {}
  },
  {
   "cell_type": "code",
   "execution_count": null,
   "source": [],
   "outputs": [],
   "metadata": {}
  }
 ],
 "metadata": {
  "orig_nbformat": 4,
  "language_info": {
   "name": "python",
   "version": "3.8.10",
   "mimetype": "text/x-python",
   "codemirror_mode": {
    "name": "ipython",
    "version": 3
   },
   "pygments_lexer": "ipython3",
   "nbconvert_exporter": "python",
   "file_extension": ".py"
  },
  "kernelspec": {
   "name": "python3",
   "display_name": "Python 3.8.10 64-bit ('dlapp': conda)"
  },
  "interpreter": {
   "hash": "f669473434b0c71a08312914e81c73b2c7471a3c7bfd138db5a6bbb55bcafdbb"
  }
 },
 "nbformat": 4,
 "nbformat_minor": 2
}